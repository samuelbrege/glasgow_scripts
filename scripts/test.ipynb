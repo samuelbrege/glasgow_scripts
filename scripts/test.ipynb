{
 "cells": [
  {
   "cell_type": "code",
   "execution_count": 5,
   "metadata": {},
   "outputs": [
    {
     "data": {
      "text/plain": [
       "<BarContainer object of 192 artists>"
      ]
     },
     "execution_count": 5,
     "metadata": {},
     "output_type": "execute_result"
    },
    {
     "data": {
      "image/png": "[encoded data removed]",
      "text/plain": [
       "<Figure size 640x480 with 1 Axes>"
      ]
     },
     "metadata": {},
     "output_type": "display_data"
    }
   ],
   "source": [
    "import pandas as pd\n",
    "import numpy as np\n",
    "import matplotlib.pyplot as plt\n",
    "\n",
    "behavior = pd.read_csv(\"../data/behavior_PassQC_CBS_ALL.tsv\", sep='\\t')\n",
    "spia_c = behavior.filter(regex=\"SPIA\").columns\n",
    "coper_c = spia_c[4:13]\n",
    "cogdis_c = spia_c[0:8]\n",
    "coper_df = behavior.copy()\n",
    "coper_df[coper_df[coper_c] < 3] = 0\n",
    "coper_df[coper_df[coper_c] >= 3] = 1\n",
    "behavior['COPER_sum'] = coper_df[coper_c].sum(axis=1)\n",
    "behavior['COPER'] = behavior['COPER_sum'] > 0\n",
    "cogdis_df = behavior.copy()\n",
    "cogdis_df[cogdis_df[cogdis_c] < 3] = 0\n",
    "cogdis_df[cogdis_df[cogdis_c] >= 3] = 1\n",
    "behavior['COGDIS_sum'] = cogdis_df[cogdis_c].sum(axis=1)\n",
    "behavior['COGDIS'] = behavior['COGDIS_sum'] > 1\n",
    "\n",
    "#update with actual CHRP diagnoses, FEP have none so must used calculated. Control and CHRN are not diagnosed with either\n",
    "behavior = behavior.replace([True,False], ['yes','no'])\n",
    "chrp_diag = pd.read_csv('../data/SPIA_diag.tsv',sep='\\t').set_index('participant_id')\n",
    "behavior = behavior.set_index('participant_id')\n",
    "#behavior.update(chrp_diag)\n",
    "behavior = behavior.reset_index()\n",
    "behavior['COPER'].value_counts(sort=False)\n",
    "#behavior[(behavior['Group']=='Clinical High Risk - Negative')]\n",
    "\n",
    "# behavior[(behavior['Group']=='Clinical High Risk - Negative') & (behavior['COGDIS']=='yes')]\n",
    "comp_cols = ['CAARMS_UTC_severity','CAARMS_NBI_severity', 'CAARMS_PA_severity', 'CAARMS_DS_severity']\n",
    "behavior['CAARMS_Composite'] = behavior[comp_cols].sum(axis=1)\n",
    "behavior = behavior.sort_values(by=['CAARMS_Composite'])\n",
    "caarms_comp = behavior['CAARMS_Composite'].to_numpy()\n",
    "plt.bar(np.arange(len(caarms_comp)),height=caarms_comp.tolist(),width=1)"
   ]
  },
  {
   "cell_type": "code",
   "execution_count": 6,
   "metadata": {},
   "outputs": [],
   "source": [
    "import numpy as np\n",
    "\n",
    "t = np.arange(0.8,6.8*2, 2)"
   ]
  },
  {
   "cell_type": "code",
   "execution_count": 8,
   "metadata": {},
   "outputs": [],
   "source": [
    "t2 = np.empty_like(t).fill(5)"
   ]
  },
  {
   "cell_type": "code",
   "execution_count": 21,
   "metadata": {},
   "outputs": [
    {
     "data": {
      "text/plain": [
       "array([5., 5., 5., 5., 5., 5., 5.])"
      ]
     },
     "execution_count": 21,
     "metadata": {},
     "output_type": "execute_result"
    }
   ],
   "source": [
    "a = np.empty_like(t)\n",
    "a.fill(5)\n",
    "a.flatten().astyp"
   ]
  }
 ],
 "metadata": {
  "kernelspec": {
   "display_name": "DataEnv",
   "language": "python",
   "name": "python3"
  },
  "language_info": {
   "codemirror_mode": {
    "name": "ipython",
    "version": 3
   },
   "file_extension": ".py",
   "mimetype": "text/x-python",
   "name": "python",
   "nbconvert_exporter": "python",
   "pygments_lexer": "ipython3",
   "version": "3.11.5"
  }
 },
 "nbformat": 4,
 "nbformat_minor": 2
}
